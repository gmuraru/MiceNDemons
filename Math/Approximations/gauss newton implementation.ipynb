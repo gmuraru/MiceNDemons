{
 "cells": [
  {
   "cell_type": "markdown",
   "metadata": {},
   "source": [
    "# Gauss Newton Implementation"
   ]
  },
  {
   "cell_type": "markdown",
   "metadata": {},
   "source": [
    "### It is used to solve non linear least square problems"
   ]
  },
  {
   "cell_type": "code",
   "execution_count": 1,
   "metadata": {},
   "outputs": [],
   "source": [
    "import numpy as np\n",
    "import matplotlib.pyplot as plt\n",
    "from typing import Callable"
   ]
  },
  {
   "cell_type": "code",
   "execution_count": 2,
   "metadata": {},
   "outputs": [],
   "source": [
    "class GaussNewton:\n",
    "    def __init__(self,\n",
    "                 fit_function= callable,\n",
    "                 max_iter: int = 10000,\n",
    "                 tolerance_difference: float = 10 ** (-16),\n",
    "                 tolerance: float = 10 ** (-9),\n",
    "                 init_guess: np.ndarray = None,\n",
    "                 ):\n",
    "        \n",
    "        self.fit_function = fit_function\n",
    "        self.max_iter = max_iter\n",
    "        self.tolerance_difference = tolerance_difference\n",
    "        self.tolerance = tolerance\n",
    "        self.coefficients = None\n",
    "        self.x = None\n",
    "        self.y = None\n",
    "        self.init_guess = None\n",
    "        if init_guess is not None:\n",
    "            self.init_guess = init_guess\n",
    "    \n",
    "    def predict(self, x: np.ndarray):\n",
    "        return self.fit_function(x, self.coefficients)\n",
    "        \n",
    "    def get_residual(self) -> np.ndarray:\n",
    "        return self.calculate_residual(self.coefficients)\n",
    "        \n",
    "    def get_estimate(self) -> np.ndarray:\n",
    "        return self.fit_function(self.x, self.coefficients)\n",
    "    \n",
    "    def calculate_residual(self, coefficients: np.ndarray) -> np.ndarray:\n",
    "        y_fit = self.fit_function(self.x, coefficients)\n",
    "        return y_fit - self.y\n",
    "\n",
    "    def calculate_jacobian(self,x0: np.ndarray,step: float = 10 ** (-7)) -> np.ndarray:\n",
    "            y0 = self.calculate_residual(x0)\n",
    "\n",
    "            jacobian = []\n",
    "            for i, parameter in enumerate(x0):\n",
    "                x = x0.copy()\n",
    "                x[i] += step\n",
    "                y = self.calculate_residual(x)\n",
    "                derivative = (y - y0) / step\n",
    "                jacobian.append(derivative)\n",
    "            jacobian = np.array(jacobian).T\n",
    "\n",
    "            return jacobian\n",
    "        \n",
    "    @staticmethod\n",
    "    def calculate_pseudoinverse(x: np.ndarray) -> np.ndarray:\n",
    "        return np.linalg.pinv(x.T @ x) @ x.T\n",
    "    \n",
    "    def fit(self,x: np.ndarray,y: np.ndarray,init_guess: np.ndarray = None) -> np.ndarray:\n",
    "        self.x = x\n",
    "        self.y = y\n",
    "        if init_guess is not None:\n",
    "            self.init_guess = init_guess\n",
    "\n",
    "        if init_guess is None:\n",
    "            raise Exception(\"Initial guess needs to be provided\")\n",
    "\n",
    "        self.coefficients = self.init_guess\n",
    "        rmse_prev = np.inf\n",
    "        for k in range(self.max_iter):\n",
    "            residual = self.calculate_residual(self.coefficients)\n",
    "            jacobian = self.calculate_jacobian(self.coefficients, step=10 ** (-6))\n",
    "            self.coefficients = self.coefficients - self.calculate_pseudoinverse(jacobian) @ residual\n",
    "            rmse = np.sqrt(np.sum(residual ** 2))\n",
    "                \n",
    "            if self.tolerance_difference is not None:\n",
    "                diff = np.abs(rmse_prev - rmse)\n",
    "                if diff < self.tolerance_difference:\n",
    "                    return self.coefficients\n",
    "                if rmse < self.tolerance:\n",
    "                    return self.coefficients\n",
    "                rmse_prev = rmse\n",
    "\n",
    "        return self.coefficients\n"
   ]
  },
  {
   "cell_type": "markdown",
   "metadata": {},
   "source": [
    "### Testing the Algorithm on real Dataset"
   ]
  },
  {
   "cell_type": "markdown",
   "metadata": {},
   "source": [
    "#### Heart Rate as a function of Time (sec) for a twenty-minute period of constant exertion"
   ]
  },
  {
   "cell_type": "code",
   "execution_count": 3,
   "metadata": {},
   "outputs": [
    {
     "data": {
      "text/html": [
       "<div>\n",
       "<style scoped>\n",
       "    .dataframe tbody tr th:only-of-type {\n",
       "        vertical-align: middle;\n",
       "    }\n",
       "\n",
       "    .dataframe tbody tr th {\n",
       "        vertical-align: top;\n",
       "    }\n",
       "\n",
       "    .dataframe thead th {\n",
       "        text-align: right;\n",
       "    }\n",
       "</style>\n",
       "<table border=\"1\" class=\"dataframe\">\n",
       "  <thead>\n",
       "    <tr style=\"text-align: right;\">\n",
       "      <th></th>\n",
       "      <th>Time (sec)</th>\n",
       "      <th>Heart Rate (BPM)</th>\n",
       "    </tr>\n",
       "  </thead>\n",
       "  <tbody>\n",
       "    <tr>\n",
       "      <th>0</th>\n",
       "      <td>0.0</td>\n",
       "      <td>103</td>\n",
       "    </tr>\n",
       "    <tr>\n",
       "      <th>1</th>\n",
       "      <td>5.0</td>\n",
       "      <td>103</td>\n",
       "    </tr>\n",
       "    <tr>\n",
       "      <th>2</th>\n",
       "      <td>10.0</td>\n",
       "      <td>103</td>\n",
       "    </tr>\n",
       "    <tr>\n",
       "      <th>3</th>\n",
       "      <td>15.0</td>\n",
       "      <td>105</td>\n",
       "    </tr>\n",
       "    <tr>\n",
       "      <th>4</th>\n",
       "      <td>20.0</td>\n",
       "      <td>108</td>\n",
       "    </tr>\n",
       "    <tr>\n",
       "      <th>...</th>\n",
       "      <td>...</td>\n",
       "      <td>...</td>\n",
       "    </tr>\n",
       "    <tr>\n",
       "      <th>236</th>\n",
       "      <td>1180.0</td>\n",
       "      <td>153</td>\n",
       "    </tr>\n",
       "    <tr>\n",
       "      <th>237</th>\n",
       "      <td>1185.0</td>\n",
       "      <td>154</td>\n",
       "    </tr>\n",
       "    <tr>\n",
       "      <th>238</th>\n",
       "      <td>1190.0</td>\n",
       "      <td>154</td>\n",
       "    </tr>\n",
       "    <tr>\n",
       "      <th>239</th>\n",
       "      <td>1195.0</td>\n",
       "      <td>154</td>\n",
       "    </tr>\n",
       "    <tr>\n",
       "      <th>240</th>\n",
       "      <td>1200.0</td>\n",
       "      <td>154</td>\n",
       "    </tr>\n",
       "  </tbody>\n",
       "</table>\n",
       "<p>241 rows × 2 columns</p>\n",
       "</div>"
      ],
      "text/plain": [
       "     Time (sec)  Heart Rate (BPM)\n",
       "0           0.0               103\n",
       "1           5.0               103\n",
       "2          10.0               103\n",
       "3          15.0               105\n",
       "4          20.0               108\n",
       "..          ...               ...\n",
       "236      1180.0               153\n",
       "237      1185.0               154\n",
       "238      1190.0               154\n",
       "239      1195.0               154\n",
       "240      1200.0               154\n",
       "\n",
       "[241 rows x 2 columns]"
      ]
     },
     "execution_count": 3,
     "metadata": {},
     "output_type": "execute_result"
    }
   ],
   "source": [
    "import pandas as pd\n",
    "p = pd.read_csv('https://apmonitor.com/che263/uploads/Main/heart_rate.txt')\n",
    "p"
   ]
  },
  {
   "cell_type": "code",
   "execution_count": 4,
   "metadata": {},
   "outputs": [],
   "source": [
    "COEFFICIENTS = [0.1, 0.1, 0.1]\n",
    "def func(x, coeff):\n",
    "    return coeff[0] * x ** 2 + coeff[1] * x  + coeff[2] \n"
   ]
  },
  {
   "cell_type": "code",
   "execution_count": 5,
   "metadata": {},
   "outputs": [
    {
     "data": {
      "text/plain": [
       "[<matplotlib.lines.Line2D at 0x7fa04e4f5470>]"
      ]
     },
     "execution_count": 5,
     "metadata": {},
     "output_type": "execute_result"
    },
    {
     "data": {
      "image/png": "[encoded data removed]",
      "text/plain": [
       "<Figure size 720x720 with 1 Axes>"
      ]
     },
     "metadata": {
      "needs_background": "light"
     },
     "output_type": "display_data"
    }
   ],
   "source": [
    "%matplotlib inline\n",
    "\n",
    "gn = GaussNewton(fit_function=func, max_iter=100, tolerance_difference=10 ** (-6))\n",
    "init_guess = 100000000 * np.random.random(len(COEFFICIENTS))\n",
    "_ = gn.fit(p['Time (sec)'], p['Heart Rate (BPM)'], init_guess)\n",
    "fit = gn.get_estimate()\n",
    "residual = gn.get_residual()\n",
    "\n",
    "plt.figure(figsize=(10,10))\n",
    "plt.xlabel('Time (sec)', size = 25)\n",
    "plt.ylabel('Heart Rate (BPM)', size = 25)\n",
    "plt.title('Heart Rate vs Time', size = 25)\n",
    "plt.scatter(p['Time (sec)'], p['Heart Rate (BPM)'])\n",
    "plt.plot(p['Time (sec)'], fit, label=\"Fit\", linewidth=2)"
   ]
  }
 ],
 "metadata": {
  "kernelspec": {
   "display_name": "Python 3",
   "language": "python",
   "name": "python3"
  },
  "language_info": {
   "codemirror_mode": {
    "name": "ipython",
    "version": 3
   },
   "file_extension": ".py",
   "mimetype": "text/x-python",
   "name": "python",
   "nbconvert_exporter": "python",
   "pygments_lexer": "ipython3",
   "version": "3.7.3"
  }
 },
 "nbformat": 4,
 "nbformat_minor": 2
}
